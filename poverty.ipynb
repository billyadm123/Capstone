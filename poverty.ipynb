{
 "cells": [
  {
   "cell_type": "markdown",
   "metadata": {},
   "source": [
    "# The Human Development Index (HDI) is a summary measure of achievements in key dimensions of human development: a long and healthy life, access to knowledge, and a decent standard of living. The HDI is the geometric mean of normalized indices for each of the three dimensions. The health dimension is assessed by life expectancy at birth, the education dimension is measured by mean of years of education for adults aged 25 years and more and expected years of education for children, and the standard of living dimension is measured by gross national income per capita. https://www.kaggle.com/undp/human-development?select=multidimensional_poverty.csv"
   ]
  },
  {
   "cell_type": "code",
   "execution_count": 1,
   "metadata": {},
   "outputs": [
    {
     "name": "stderr",
     "output_type": "stream",
     "text": [
      "C:\\Users\\willi\\Anaconda3\\lib\\site-packages\\statsmodels\\tools\\_testing.py:19: FutureWarning: pandas.util.testing is deprecated. Use the functions in the public API at pandas.testing instead.\n",
      "  import pandas.util.testing as tm\n"
     ]
    },
    {
     "data": {
      "text/html": [
       "<div>\n",
       "<style scoped>\n",
       "    .dataframe tbody tr th:only-of-type {\n",
       "        vertical-align: middle;\n",
       "    }\n",
       "\n",
       "    .dataframe tbody tr th {\n",
       "        vertical-align: top;\n",
       "    }\n",
       "\n",
       "    .dataframe thead th {\n",
       "        text-align: right;\n",
       "    }\n",
       "</style>\n",
       "<table border=\"1\" class=\"dataframe\">\n",
       "  <thead>\n",
       "    <tr style=\"text-align: right;\">\n",
       "      <th></th>\n",
       "      <th>Country</th>\n",
       "      <th>Year and Survey</th>\n",
       "      <th>Multidimensional Poverty Index (MPI, HDRO)</th>\n",
       "      <th>MPI HDRO Percent</th>\n",
       "      <th>Multidimensional Poverty Index (MPI, 2010)</th>\n",
       "      <th>MPI 2010 Percent</th>\n",
       "      <th>Population in Multidimensional Poverty</th>\n",
       "      <th>Intensity of Deprivation</th>\n",
       "      <th>Education Deprivation</th>\n",
       "      <th>Health Deprivation</th>\n",
       "      <th>Living Standards</th>\n",
       "      <th>Population Below National Poverty Line</th>\n",
       "      <th>Population Below $1.25 per Day</th>\n",
       "    </tr>\n",
       "  </thead>\n",
       "  <tbody>\n",
       "    <tr>\n",
       "      <th>0</th>\n",
       "      <td>Afghanistan</td>\n",
       "      <td>2010/2011 M</td>\n",
       "      <td>0.293</td>\n",
       "      <td>58.8</td>\n",
       "      <td>0.353</td>\n",
       "      <td>66.2</td>\n",
       "      <td>17,116</td>\n",
       "      <td>49.9</td>\n",
       "      <td>45.6</td>\n",
       "      <td>19.2</td>\n",
       "      <td>35.2</td>\n",
       "      <td>35.8</td>\n",
       "      <td>..</td>\n",
       "    </tr>\n",
       "    <tr>\n",
       "      <th>1</th>\n",
       "      <td>Albania</td>\n",
       "      <td>2008/2009 D</td>\n",
       "      <td>0.005</td>\n",
       "      <td>1.2</td>\n",
       "      <td>0.005</td>\n",
       "      <td>1.4</td>\n",
       "      <td>38</td>\n",
       "      <td>38.3</td>\n",
       "      <td>22.4</td>\n",
       "      <td>47.1</td>\n",
       "      <td>30.5</td>\n",
       "      <td>14.3</td>\n",
       "      <td>0.5</td>\n",
       "    </tr>\n",
       "    <tr>\n",
       "      <th>2</th>\n",
       "      <td>Argentina</td>\n",
       "      <td>2005 N</td>\n",
       "      <td>0.015</td>\n",
       "      <td>3.7</td>\n",
       "      <td>0.011</td>\n",
       "      <td>2.9</td>\n",
       "      <td>1,438</td>\n",
       "      <td>39.1</td>\n",
       "      <td>38.2</td>\n",
       "      <td>27.8</td>\n",
       "      <td>34.0</td>\n",
       "      <td>..</td>\n",
       "      <td>1.4</td>\n",
       "    </tr>\n",
       "    <tr>\n",
       "      <th>3</th>\n",
       "      <td>Armenia</td>\n",
       "      <td>2010 D</td>\n",
       "      <td>0.002</td>\n",
       "      <td>0.6</td>\n",
       "      <td>0.001</td>\n",
       "      <td>0.3</td>\n",
       "      <td>18</td>\n",
       "      <td>37.0</td>\n",
       "      <td>3.4</td>\n",
       "      <td>87.8</td>\n",
       "      <td>8.7</td>\n",
       "      <td>32.0</td>\n",
       "      <td>1.8</td>\n",
       "    </tr>\n",
       "    <tr>\n",
       "      <th>4</th>\n",
       "      <td>Azerbaijan</td>\n",
       "      <td>2006 D</td>\n",
       "      <td>0.009</td>\n",
       "      <td>2.4</td>\n",
       "      <td>0.021</td>\n",
       "      <td>5.3</td>\n",
       "      <td>210</td>\n",
       "      <td>38.2</td>\n",
       "      <td>20.0</td>\n",
       "      <td>50.7</td>\n",
       "      <td>29.3</td>\n",
       "      <td>5.3</td>\n",
       "      <td>0.3</td>\n",
       "    </tr>\n",
       "  </tbody>\n",
       "</table>\n",
       "</div>"
      ],
      "text/plain": [
       "       Country Year and Survey  Multidimensional Poverty Index (MPI, HDRO)  \\\n",
       "0  Afghanistan     2010/2011 M                                       0.293   \n",
       "1      Albania     2008/2009 D                                       0.005   \n",
       "2    Argentina          2005 N                                       0.015   \n",
       "3      Armenia          2010 D                                       0.002   \n",
       "4   Azerbaijan          2006 D                                       0.009   \n",
       "\n",
       "   MPI HDRO Percent  Multidimensional Poverty Index (MPI, 2010)  \\\n",
       "0              58.8                                       0.353   \n",
       "1               1.2                                       0.005   \n",
       "2               3.7                                       0.011   \n",
       "3               0.6                                       0.001   \n",
       "4               2.4                                       0.021   \n",
       "\n",
       "   MPI 2010 Percent Population in Multidimensional Poverty  \\\n",
       "0              66.2                                 17,116   \n",
       "1               1.4                                     38   \n",
       "2               2.9                                  1,438   \n",
       "3               0.3                                     18   \n",
       "4               5.3                                    210   \n",
       "\n",
       "   Intensity of Deprivation  Education Deprivation  Health Deprivation  \\\n",
       "0                      49.9                   45.6                19.2   \n",
       "1                      38.3                   22.4                47.1   \n",
       "2                      39.1                   38.2                27.8   \n",
       "3                      37.0                    3.4                87.8   \n",
       "4                      38.2                   20.0                50.7   \n",
       "\n",
       "   Living Standards Population Below National Poverty Line  \\\n",
       "0              35.2                                   35.8   \n",
       "1              30.5                                   14.3   \n",
       "2              34.0                                     ..   \n",
       "3               8.7                                   32.0   \n",
       "4              29.3                                    5.3   \n",
       "\n",
       "  Population Below $1.25 per Day  \n",
       "0                             ..  \n",
       "1                            0.5  \n",
       "2                            1.4  \n",
       "3                            1.8  \n",
       "4                            0.3  "
      ]
     },
     "execution_count": 1,
     "metadata": {},
     "output_type": "execute_result"
    }
   ],
   "source": [
    "import pandas as pd\n",
    "import numpy as np\n",
    "np.random.seed(7)\n",
    "import seaborn as sns\n",
    "import matplotlib.pyplot as plt\n",
    "plt.rcParams['figure.figsize']=(20,10)\n",
    "plt.style.use('ggplot')\n",
    "import warnings\n",
    "warnings.filterwarnings('ignore')\n",
    "from matplotlib.pylab import rcParams\n",
    "plt.style.use('ggplot')\n",
    "%matplotlib inline\n",
    "df = pd.read_csv('multidimensional_poverty.csv')\n",
    "pd.set_option('display.max_columns', None)\n",
    "df.head()"
   ]
  },
  {
   "cell_type": "markdown",
   "metadata": {},
   "source": [
    "# Data cleaning and EDA"
   ]
  },
  {
   "cell_type": "code",
   "execution_count": 2,
   "metadata": {},
   "outputs": [
    {
     "name": "stdout",
     "output_type": "stream",
     "text": [
      "<class 'pandas.core.frame.DataFrame'>\n",
      "RangeIndex: 101 entries, 0 to 100\n",
      "Data columns (total 13 columns):\n",
      " #   Column                                      Non-Null Count  Dtype  \n",
      "---  ------                                      --------------  -----  \n",
      " 0   Country                                     101 non-null    object \n",
      " 1   Year and Survey                             101 non-null    object \n",
      " 2   Multidimensional Poverty Index (MPI, HDRO)  101 non-null    float64\n",
      " 3   MPI HDRO Percent                            101 non-null    float64\n",
      " 4   Multidimensional Poverty Index (MPI, 2010)  99 non-null     float64\n",
      " 5   MPI 2010 Percent                            99 non-null     float64\n",
      " 6   Population in Multidimensional Poverty      101 non-null    object \n",
      " 7   Intensity of Deprivation                    101 non-null    float64\n",
      " 8   Education Deprivation                       101 non-null    float64\n",
      " 9   Health Deprivation                          101 non-null    float64\n",
      " 10  Living Standards                            101 non-null    float64\n",
      " 11  Population Below National Poverty Line      101 non-null    object \n",
      " 12  Population Below $1.25 per Day              101 non-null    object \n",
      "dtypes: float64(8), object(5)\n",
      "memory usage: 10.4+ KB\n"
     ]
    }
   ],
   "source": [
    "df.info()"
   ]
  },
  {
   "cell_type": "markdown",
   "metadata": {},
   "source": [
    "# Changing the data types from sting to a numerical version so they could be plotted"
   ]
  },
  {
   "cell_type": "code",
   "execution_count": 3,
   "metadata": {},
   "outputs": [],
   "source": [
    "#Remove the quotation marks before changing data type\n",
    "df['Population in Multidimensional Poverty'] = df['Population in Multidimensional Poverty'].str.strip('')\n"
   ]
  },
  {
   "cell_type": "code",
   "execution_count": 4,
   "metadata": {},
   "outputs": [],
   "source": [
    "df['Population in Multidimensional Poverty']= pd.to_numeric(df['Population in Multidimensional Poverty'], errors='coerce').astype('Int64')"
   ]
  },
  {
   "cell_type": "code",
   "execution_count": 5,
   "metadata": {},
   "outputs": [],
   "source": [
    "df['Population Below National Poverty Line']= pd.to_numeric(df['Population Below National Poverty Line'], errors='coerce').astype('float64')"
   ]
  },
  {
   "cell_type": "code",
   "execution_count": 6,
   "metadata": {},
   "outputs": [],
   "source": [
    "df['Population Below $1.25 per Day']= pd.to_numeric(df['Population Below $1.25 per Day'], errors='coerce').astype('float64')"
   ]
  },
  {
   "cell_type": "code",
   "execution_count": 7,
   "metadata": {},
   "outputs": [
    {
     "name": "stdout",
     "output_type": "stream",
     "text": [
      "<class 'pandas.core.frame.DataFrame'>\n",
      "RangeIndex: 101 entries, 0 to 100\n",
      "Data columns (total 13 columns):\n",
      " #   Column                                      Non-Null Count  Dtype  \n",
      "---  ------                                      --------------  -----  \n",
      " 0   Country                                     101 non-null    object \n",
      " 1   Year and Survey                             101 non-null    object \n",
      " 2   Multidimensional Poverty Index (MPI, HDRO)  101 non-null    float64\n",
      " 3   MPI HDRO Percent                            101 non-null    float64\n",
      " 4   Multidimensional Poverty Index (MPI, 2010)  99 non-null     float64\n",
      " 5   MPI 2010 Percent                            99 non-null     float64\n",
      " 6   Population in Multidimensional Poverty      40 non-null     Int64  \n",
      " 7   Intensity of Deprivation                    101 non-null    float64\n",
      " 8   Education Deprivation                       101 non-null    float64\n",
      " 9   Health Deprivation                          101 non-null    float64\n",
      " 10  Living Standards                            101 non-null    float64\n",
      " 11  Population Below National Poverty Line      88 non-null     float64\n",
      " 12  Population Below $1.25 per Day              86 non-null     float64\n",
      "dtypes: Int64(1), float64(10), object(2)\n",
      "memory usage: 10.5+ KB\n"
     ]
    }
   ],
   "source": [
    "df.info()"
   ]
  },
  {
   "cell_type": "code",
   "execution_count": 8,
   "metadata": {},
   "outputs": [
    {
     "data": {
      "text/plain": [
       "2010 M         9\n",
       "2010 D         8\n",
       "2013 D         8\n",
       "2012 D         8\n",
       "2011 D         6\n",
       "2006 M         5\n",
       "2011 M         5\n",
       "2011/2012 D    5\n",
       "2012 M         4\n",
       "2008/2009 D    4\n",
       "2011/2012 M    3\n",
       "2013/2014 D    3\n",
       "2012 N         3\n",
       "2009 D         3\n",
       "2010/2011 M    3\n",
       "2012/2013 D    2\n",
       "2005 M         2\n",
       "2014 M         2\n",
       "2012 D/M       2\n",
       "2014 D         2\n",
       "2010 N         1\n",
       "2007 N         1\n",
       "2013/2014 N    1\n",
       "2006 D         1\n",
       "2013 N         1\n",
       "2013 M         1\n",
       "2011 N         1\n",
       "2009 N         1\n",
       "2009/2010 D    1\n",
       "2007 M         1\n",
       "2005/2006 M    1\n",
       "2005/2006 D    1\n",
       "2008 D         1\n",
       "2005 N         1\n",
       "Name: Year and Survey, dtype: int64"
      ]
     },
     "execution_count": 8,
     "metadata": {},
     "output_type": "execute_result"
    }
   ],
   "source": [
    "df['Year and Survey'].value_counts()"
   ]
  },
  {
   "cell_type": "markdown",
   "metadata": {},
   "source": [
    "# The Multidimensional Poverty Index (MPI) identifies multiple deprivations at the household level in education, health, and standard of living as indicators of poverty. It looks like health deprivation isn't always as strong as a driver of poverty throughout the time series"
   ]
  },
  {
   "cell_type": "code",
   "execution_count": 9,
   "metadata": {},
   "outputs": [
    {
     "data": {
      "text/plain": [
       "<AxesSubplot:>"
      ]
     },
     "execution_count": 9,
     "metadata": {},
     "output_type": "execute_result"
    },
    {
     "data": {
      "image/png": "[encoded data removed]",
      "text/plain": [
       "<Figure size 432x288 with 1 Axes>"
      ]
     },
     "metadata": {
      "needs_background": "light"
     },
     "output_type": "display_data"
    }
   ],
   "source": [
    "#Assessed by life expectancy at birth\n",
    "df['Health Deprivation'].plot()"
   ]
  },
  {
   "cell_type": "code",
   "execution_count": 10,
   "metadata": {},
   "outputs": [
    {
     "data": {
      "text/plain": [
       "<AxesSubplot:>"
      ]
     },
     "execution_count": 10,
     "metadata": {},
     "output_type": "execute_result"
    },
    {
     "data": {
      "image/png": "[encoded data removed]",
      "text/plain": [
       "<Figure size 432x288 with 1 Axes>"
      ]
     },
     "metadata": {
      "needs_background": "light"
     },
     "output_type": "display_data"
    }
   ],
   "source": [
    "df['Multidimensional Poverty Index (MPI, HDRO)'].plot()"
   ]
  },
  {
   "cell_type": "code",
   "execution_count": 11,
   "metadata": {},
   "outputs": [
    {
     "data": {
      "text/plain": [
       "<AxesSubplot:>"
      ]
     },
     "execution_count": 11,
     "metadata": {},
     "output_type": "execute_result"
    },
    {
     "data": {
      "image/png": "[encoded data removed]",
      "text/plain": [
       "<Figure size 432x288 with 1 Axes>"
      ]
     },
     "metadata": {
      "needs_background": "light"
     },
     "output_type": "display_data"
    }
   ],
   "source": [
    "#This will be one of our target variables\n",
    "df['Intensity of Deprivation'].plot()"
   ]
  },
  {
   "cell_type": "markdown",
   "metadata": {},
   "source": [
    "# Originally the minimum value of these columns was 0 which didn't make sense to me so I use the value for the 25th percentile for the new minimum but I'm not sure why it didn't match the exact value."
   ]
  },
  {
   "cell_type": "code",
   "execution_count": 12,
   "metadata": {},
   "outputs": [
    {
     "data": {
      "text/html": [
       "<div>\n",
       "<style scoped>\n",
       "    .dataframe tbody tr th:only-of-type {\n",
       "        vertical-align: middle;\n",
       "    }\n",
       "\n",
       "    .dataframe tbody tr th {\n",
       "        vertical-align: top;\n",
       "    }\n",
       "\n",
       "    .dataframe thead th {\n",
       "        text-align: right;\n",
       "    }\n",
       "</style>\n",
       "<table border=\"1\" class=\"dataframe\">\n",
       "  <thead>\n",
       "    <tr style=\"text-align: right;\">\n",
       "      <th></th>\n",
       "      <th>Multidimensional Poverty Index (MPI, HDRO)</th>\n",
       "      <th>MPI HDRO Percent</th>\n",
       "      <th>Multidimensional Poverty Index (MPI, 2010)</th>\n",
       "      <th>MPI 2010 Percent</th>\n",
       "      <th>Population in Multidimensional Poverty</th>\n",
       "      <th>Intensity of Deprivation</th>\n",
       "      <th>Education Deprivation</th>\n",
       "      <th>Health Deprivation</th>\n",
       "      <th>Living Standards</th>\n",
       "      <th>Population Below National Poverty Line</th>\n",
       "      <th>Population Below $1.25 per Day</th>\n",
       "    </tr>\n",
       "  </thead>\n",
       "  <tbody>\n",
       "    <tr>\n",
       "      <th>count</th>\n",
       "      <td>101.000000</td>\n",
       "      <td>101.000000</td>\n",
       "      <td>99.000000</td>\n",
       "      <td>99.000000</td>\n",
       "      <td>40.000000</td>\n",
       "      <td>101.000000</td>\n",
       "      <td>101.000000</td>\n",
       "      <td>101.000000</td>\n",
       "      <td>101.000000</td>\n",
       "      <td>88.000000</td>\n",
       "      <td>86.000000</td>\n",
       "    </tr>\n",
       "    <tr>\n",
       "      <th>mean</th>\n",
       "      <td>0.170149</td>\n",
       "      <td>32.599010</td>\n",
       "      <td>0.172949</td>\n",
       "      <td>32.497980</td>\n",
       "      <td>212.475000</td>\n",
       "      <td>45.852475</td>\n",
       "      <td>25.306931</td>\n",
       "      <td>38.507921</td>\n",
       "      <td>36.189109</td>\n",
       "      <td>36.022727</td>\n",
       "      <td>24.748488</td>\n",
       "    </tr>\n",
       "    <tr>\n",
       "      <th>std</th>\n",
       "      <td>0.169847</td>\n",
       "      <td>29.718097</td>\n",
       "      <td>0.176056</td>\n",
       "      <td>29.931844</td>\n",
       "      <td>263.184832</td>\n",
       "      <td>7.588631</td>\n",
       "      <td>11.511214</td>\n",
       "      <td>19.097983</td>\n",
       "      <td>14.060227</td>\n",
       "      <td>18.384106</td>\n",
       "      <td>24.997342</td>\n",
       "    </tr>\n",
       "    <tr>\n",
       "      <th>min</th>\n",
       "      <td>0.001000</td>\n",
       "      <td>0.400000</td>\n",
       "      <td>0.000000</td>\n",
       "      <td>0.000000</td>\n",
       "      <td>2.000000</td>\n",
       "      <td>33.700000</td>\n",
       "      <td>1.500000</td>\n",
       "      <td>12.600000</td>\n",
       "      <td>2.600000</td>\n",
       "      <td>2.900000</td>\n",
       "      <td>0.000000</td>\n",
       "    </tr>\n",
       "    <tr>\n",
       "      <th>25%</th>\n",
       "      <td>0.015000</td>\n",
       "      <td>3.700000</td>\n",
       "      <td>0.015000</td>\n",
       "      <td>3.900000</td>\n",
       "      <td>39.500000</td>\n",
       "      <td>39.100000</td>\n",
       "      <td>17.900000</td>\n",
       "      <td>25.700000</td>\n",
       "      <td>29.400000</td>\n",
       "      <td>21.400000</td>\n",
       "      <td>2.325000</td>\n",
       "    </tr>\n",
       "    <tr>\n",
       "      <th>50%</th>\n",
       "      <td>0.127000</td>\n",
       "      <td>26.900000</td>\n",
       "      <td>0.119000</td>\n",
       "      <td>27.200000</td>\n",
       "      <td>90.500000</td>\n",
       "      <td>45.100000</td>\n",
       "      <td>26.400000</td>\n",
       "      <td>30.400000</td>\n",
       "      <td>40.000000</td>\n",
       "      <td>35.500000</td>\n",
       "      <td>17.650000</td>\n",
       "    </tr>\n",
       "    <tr>\n",
       "      <th>75%</th>\n",
       "      <td>0.290000</td>\n",
       "      <td>55.600000</td>\n",
       "      <td>0.309500</td>\n",
       "      <td>58.250000</td>\n",
       "      <td>253.500000</td>\n",
       "      <td>50.800000</td>\n",
       "      <td>33.700000</td>\n",
       "      <td>47.100000</td>\n",
       "      <td>46.400000</td>\n",
       "      <td>49.150000</td>\n",
       "      <td>42.700000</td>\n",
       "    </tr>\n",
       "    <tr>\n",
       "      <th>max</th>\n",
       "      <td>0.584000</td>\n",
       "      <td>89.800000</td>\n",
       "      <td>0.605000</td>\n",
       "      <td>91.100000</td>\n",
       "      <td>984.000000</td>\n",
       "      <td>65.000000</td>\n",
       "      <td>54.700000</td>\n",
       "      <td>95.900000</td>\n",
       "      <td>56.600000</td>\n",
       "      <td>75.300000</td>\n",
       "      <td>87.700000</td>\n",
       "    </tr>\n",
       "  </tbody>\n",
       "</table>\n",
       "</div>"
      ],
      "text/plain": [
       "       Multidimensional Poverty Index (MPI, HDRO)  MPI HDRO Percent  \\\n",
       "count                                  101.000000        101.000000   \n",
       "mean                                     0.170149         32.599010   \n",
       "std                                      0.169847         29.718097   \n",
       "min                                      0.001000          0.400000   \n",
       "25%                                      0.015000          3.700000   \n",
       "50%                                      0.127000         26.900000   \n",
       "75%                                      0.290000         55.600000   \n",
       "max                                      0.584000         89.800000   \n",
       "\n",
       "       Multidimensional Poverty Index (MPI, 2010)  MPI 2010 Percent  \\\n",
       "count                                   99.000000         99.000000   \n",
       "mean                                     0.172949         32.497980   \n",
       "std                                      0.176056         29.931844   \n",
       "min                                      0.000000          0.000000   \n",
       "25%                                      0.015000          3.900000   \n",
       "50%                                      0.119000         27.200000   \n",
       "75%                                      0.309500         58.250000   \n",
       "max                                      0.605000         91.100000   \n",
       "\n",
       "       Population in Multidimensional Poverty  Intensity of Deprivation  \\\n",
       "count                               40.000000                101.000000   \n",
       "mean                               212.475000                 45.852475   \n",
       "std                                263.184832                  7.588631   \n",
       "min                                  2.000000                 33.700000   \n",
       "25%                                 39.500000                 39.100000   \n",
       "50%                                 90.500000                 45.100000   \n",
       "75%                                253.500000                 50.800000   \n",
       "max                                984.000000                 65.000000   \n",
       "\n",
       "       Education Deprivation  Health Deprivation  Living Standards  \\\n",
       "count             101.000000          101.000000        101.000000   \n",
       "mean               25.306931           38.507921         36.189109   \n",
       "std                11.511214           19.097983         14.060227   \n",
       "min                 1.500000           12.600000          2.600000   \n",
       "25%                17.900000           25.700000         29.400000   \n",
       "50%                26.400000           30.400000         40.000000   \n",
       "75%                33.700000           47.100000         46.400000   \n",
       "max                54.700000           95.900000         56.600000   \n",
       "\n",
       "       Population Below National Poverty Line  Population Below $1.25 per Day  \n",
       "count                               88.000000                       86.000000  \n",
       "mean                                36.022727                       24.748488  \n",
       "std                                 18.384106                       24.997342  \n",
       "min                                  2.900000                        0.000000  \n",
       "25%                                 21.400000                        2.325000  \n",
       "50%                                 35.500000                       17.650000  \n",
       "75%                                 49.150000                       42.700000  \n",
       "max                                 75.300000                       87.700000  "
      ]
     },
     "execution_count": 12,
     "metadata": {},
     "output_type": "execute_result"
    }
   ],
   "source": [
    "df.describe()"
   ]
  },
  {
   "cell_type": "code",
   "execution_count": 13,
   "metadata": {},
   "outputs": [],
   "source": [
    "df['Multidimensional Poverty Index (MPI, 2010)'] = df['Multidimensional Poverty Index (MPI, 2010)'].replace(0.000000, 0.015000)\n",
    "df['MPI 2010 Percent'] = df['MPI 2010 Percent'].replace(0.000000, 3.900000)\n",
    "df['Population Below $1.25 per Day'] = df['Population Below $1.25 per Day'].replace(0.000000, 2.325000)"
   ]
  },
  {
   "cell_type": "code",
   "execution_count": 14,
   "metadata": {},
   "outputs": [
    {
     "data": {
      "text/html": [
       "<div>\n",
       "<style scoped>\n",
       "    .dataframe tbody tr th:only-of-type {\n",
       "        vertical-align: middle;\n",
       "    }\n",
       "\n",
       "    .dataframe tbody tr th {\n",
       "        vertical-align: top;\n",
       "    }\n",
       "\n",
       "    .dataframe thead th {\n",
       "        text-align: right;\n",
       "    }\n",
       "</style>\n",
       "<table border=\"1\" class=\"dataframe\">\n",
       "  <thead>\n",
       "    <tr style=\"text-align: right;\">\n",
       "      <th></th>\n",
       "      <th>Multidimensional Poverty Index (MPI, HDRO)</th>\n",
       "      <th>MPI HDRO Percent</th>\n",
       "      <th>Multidimensional Poverty Index (MPI, 2010)</th>\n",
       "      <th>MPI 2010 Percent</th>\n",
       "      <th>Population in Multidimensional Poverty</th>\n",
       "      <th>Intensity of Deprivation</th>\n",
       "      <th>Education Deprivation</th>\n",
       "      <th>Health Deprivation</th>\n",
       "      <th>Living Standards</th>\n",
       "      <th>Population Below National Poverty Line</th>\n",
       "      <th>Population Below $1.25 per Day</th>\n",
       "    </tr>\n",
       "  </thead>\n",
       "  <tbody>\n",
       "    <tr>\n",
       "      <th>count</th>\n",
       "      <td>101.000000</td>\n",
       "      <td>101.000000</td>\n",
       "      <td>99.000000</td>\n",
       "      <td>99.000000</td>\n",
       "      <td>40.000000</td>\n",
       "      <td>101.000000</td>\n",
       "      <td>101.000000</td>\n",
       "      <td>101.000000</td>\n",
       "      <td>101.000000</td>\n",
       "      <td>88.000000</td>\n",
       "      <td>86.000000</td>\n",
       "    </tr>\n",
       "    <tr>\n",
       "      <th>mean</th>\n",
       "      <td>0.170149</td>\n",
       "      <td>32.599010</td>\n",
       "      <td>0.173101</td>\n",
       "      <td>32.537374</td>\n",
       "      <td>212.475000</td>\n",
       "      <td>45.852475</td>\n",
       "      <td>25.306931</td>\n",
       "      <td>38.507921</td>\n",
       "      <td>36.189109</td>\n",
       "      <td>36.022727</td>\n",
       "      <td>24.829593</td>\n",
       "    </tr>\n",
       "    <tr>\n",
       "      <th>std</th>\n",
       "      <td>0.169847</td>\n",
       "      <td>29.718097</td>\n",
       "      <td>0.175912</td>\n",
       "      <td>29.891175</td>\n",
       "      <td>263.184832</td>\n",
       "      <td>7.588631</td>\n",
       "      <td>11.511214</td>\n",
       "      <td>19.097983</td>\n",
       "      <td>14.060227</td>\n",
       "      <td>18.384106</td>\n",
       "      <td>24.919663</td>\n",
       "    </tr>\n",
       "    <tr>\n",
       "      <th>min</th>\n",
       "      <td>0.001000</td>\n",
       "      <td>0.400000</td>\n",
       "      <td>0.001000</td>\n",
       "      <td>0.200000</td>\n",
       "      <td>2.000000</td>\n",
       "      <td>33.700000</td>\n",
       "      <td>1.500000</td>\n",
       "      <td>12.600000</td>\n",
       "      <td>2.600000</td>\n",
       "      <td>2.900000</td>\n",
       "      <td>0.100000</td>\n",
       "    </tr>\n",
       "    <tr>\n",
       "      <th>25%</th>\n",
       "      <td>0.015000</td>\n",
       "      <td>3.700000</td>\n",
       "      <td>0.015500</td>\n",
       "      <td>4.050000</td>\n",
       "      <td>39.500000</td>\n",
       "      <td>39.100000</td>\n",
       "      <td>17.900000</td>\n",
       "      <td>25.700000</td>\n",
       "      <td>29.400000</td>\n",
       "      <td>21.400000</td>\n",
       "      <td>2.343750</td>\n",
       "    </tr>\n",
       "    <tr>\n",
       "      <th>50%</th>\n",
       "      <td>0.127000</td>\n",
       "      <td>26.900000</td>\n",
       "      <td>0.119000</td>\n",
       "      <td>27.200000</td>\n",
       "      <td>90.500000</td>\n",
       "      <td>45.100000</td>\n",
       "      <td>26.400000</td>\n",
       "      <td>30.400000</td>\n",
       "      <td>40.000000</td>\n",
       "      <td>35.500000</td>\n",
       "      <td>17.650000</td>\n",
       "    </tr>\n",
       "    <tr>\n",
       "      <th>75%</th>\n",
       "      <td>0.290000</td>\n",
       "      <td>55.600000</td>\n",
       "      <td>0.309500</td>\n",
       "      <td>58.250000</td>\n",
       "      <td>253.500000</td>\n",
       "      <td>50.800000</td>\n",
       "      <td>33.700000</td>\n",
       "      <td>47.100000</td>\n",
       "      <td>46.400000</td>\n",
       "      <td>49.150000</td>\n",
       "      <td>42.700000</td>\n",
       "    </tr>\n",
       "    <tr>\n",
       "      <th>max</th>\n",
       "      <td>0.584000</td>\n",
       "      <td>89.800000</td>\n",
       "      <td>0.605000</td>\n",
       "      <td>91.100000</td>\n",
       "      <td>984.000000</td>\n",
       "      <td>65.000000</td>\n",
       "      <td>54.700000</td>\n",
       "      <td>95.900000</td>\n",
       "      <td>56.600000</td>\n",
       "      <td>75.300000</td>\n",
       "      <td>87.700000</td>\n",
       "    </tr>\n",
       "  </tbody>\n",
       "</table>\n",
       "</div>"
      ],
      "text/plain": [
       "       Multidimensional Poverty Index (MPI, HDRO)  MPI HDRO Percent  \\\n",
       "count                                  101.000000        101.000000   \n",
       "mean                                     0.170149         32.599010   \n",
       "std                                      0.169847         29.718097   \n",
       "min                                      0.001000          0.400000   \n",
       "25%                                      0.015000          3.700000   \n",
       "50%                                      0.127000         26.900000   \n",
       "75%                                      0.290000         55.600000   \n",
       "max                                      0.584000         89.800000   \n",
       "\n",
       "       Multidimensional Poverty Index (MPI, 2010)  MPI 2010 Percent  \\\n",
       "count                                   99.000000         99.000000   \n",
       "mean                                     0.173101         32.537374   \n",
       "std                                      0.175912         29.891175   \n",
       "min                                      0.001000          0.200000   \n",
       "25%                                      0.015500          4.050000   \n",
       "50%                                      0.119000         27.200000   \n",
       "75%                                      0.309500         58.250000   \n",
       "max                                      0.605000         91.100000   \n",
       "\n",
       "       Population in Multidimensional Poverty  Intensity of Deprivation  \\\n",
       "count                               40.000000                101.000000   \n",
       "mean                               212.475000                 45.852475   \n",
       "std                                263.184832                  7.588631   \n",
       "min                                  2.000000                 33.700000   \n",
       "25%                                 39.500000                 39.100000   \n",
       "50%                                 90.500000                 45.100000   \n",
       "75%                                253.500000                 50.800000   \n",
       "max                                984.000000                 65.000000   \n",
       "\n",
       "       Education Deprivation  Health Deprivation  Living Standards  \\\n",
       "count             101.000000          101.000000        101.000000   \n",
       "mean               25.306931           38.507921         36.189109   \n",
       "std                11.511214           19.097983         14.060227   \n",
       "min                 1.500000           12.600000          2.600000   \n",
       "25%                17.900000           25.700000         29.400000   \n",
       "50%                26.400000           30.400000         40.000000   \n",
       "75%                33.700000           47.100000         46.400000   \n",
       "max                54.700000           95.900000         56.600000   \n",
       "\n",
       "       Population Below National Poverty Line  Population Below $1.25 per Day  \n",
       "count                               88.000000                       86.000000  \n",
       "mean                                36.022727                       24.829593  \n",
       "std                                 18.384106                       24.919663  \n",
       "min                                  2.900000                        0.100000  \n",
       "25%                                 21.400000                        2.343750  \n",
       "50%                                 35.500000                       17.650000  \n",
       "75%                                 49.150000                       42.700000  \n",
       "max                                 75.300000                       87.700000  "
      ]
     },
     "execution_count": 14,
     "metadata": {},
     "output_type": "execute_result"
    }
   ],
   "source": [
    "df.describe()"
   ]
  },
  {
   "cell_type": "code",
   "execution_count": 15,
   "metadata": {},
   "outputs": [
    {
     "name": "stdout",
     "output_type": "stream",
     "text": [
      "<class 'pandas.core.frame.DataFrame'>\n",
      "RangeIndex: 101 entries, 0 to 100\n",
      "Data columns (total 13 columns):\n",
      " #   Column                                      Non-Null Count  Dtype  \n",
      "---  ------                                      --------------  -----  \n",
      " 0   Country                                     101 non-null    object \n",
      " 1   Year and Survey                             101 non-null    object \n",
      " 2   Multidimensional Poverty Index (MPI, HDRO)  101 non-null    float64\n",
      " 3   MPI HDRO Percent                            101 non-null    float64\n",
      " 4   Multidimensional Poverty Index (MPI, 2010)  99 non-null     float64\n",
      " 5   MPI 2010 Percent                            99 non-null     float64\n",
      " 6   Population in Multidimensional Poverty      40 non-null     Int64  \n",
      " 7   Intensity of Deprivation                    101 non-null    float64\n",
      " 8   Education Deprivation                       101 non-null    float64\n",
      " 9   Health Deprivation                          101 non-null    float64\n",
      " 10  Living Standards                            101 non-null    float64\n",
      " 11  Population Below National Poverty Line      88 non-null     float64\n",
      " 12  Population Below $1.25 per Day              86 non-null     float64\n",
      "dtypes: Int64(1), float64(10), object(2)\n",
      "memory usage: 10.5+ KB\n"
     ]
    }
   ],
   "source": [
    "df.info()"
   ]
  },
  {
   "cell_type": "markdown",
   "metadata": {},
   "source": [
    "# Again this is an experiment to see if I can build a model to be used on new data."
   ]
  },
  {
   "cell_type": "code",
   "execution_count": 16,
   "metadata": {},
   "outputs": [],
   "source": [
    "df.fillna(method='ffill', inplace=True)"
   ]
  },
  {
   "cell_type": "code",
   "execution_count": 17,
   "metadata": {},
   "outputs": [],
   "source": [
    "df['Population Below $1.25 per Day'].fillna(value=0, inplace=True)"
   ]
  },
  {
   "cell_type": "code",
   "execution_count": 18,
   "metadata": {},
   "outputs": [
    {
     "name": "stdout",
     "output_type": "stream",
     "text": [
      "<class 'pandas.core.frame.DataFrame'>\n",
      "RangeIndex: 101 entries, 0 to 100\n",
      "Data columns (total 13 columns):\n",
      " #   Column                                      Non-Null Count  Dtype  \n",
      "---  ------                                      --------------  -----  \n",
      " 0   Country                                     101 non-null    object \n",
      " 1   Year and Survey                             101 non-null    object \n",
      " 2   Multidimensional Poverty Index (MPI, HDRO)  101 non-null    float64\n",
      " 3   MPI HDRO Percent                            101 non-null    float64\n",
      " 4   Multidimensional Poverty Index (MPI, 2010)  101 non-null    float64\n",
      " 5   MPI 2010 Percent                            101 non-null    float64\n",
      " 6   Population in Multidimensional Poverty      100 non-null    Int64  \n",
      " 7   Intensity of Deprivation                    101 non-null    float64\n",
      " 8   Education Deprivation                       101 non-null    float64\n",
      " 9   Health Deprivation                          101 non-null    float64\n",
      " 10  Living Standards                            101 non-null    float64\n",
      " 11  Population Below National Poverty Line      101 non-null    float64\n",
      " 12  Population Below $1.25 per Day              101 non-null    float64\n",
      "dtypes: Int64(1), float64(10), object(2)\n",
      "memory usage: 10.5+ KB\n"
     ]
    }
   ],
   "source": [
    "df.info()"
   ]
  },
  {
   "cell_type": "code",
   "execution_count": 19,
   "metadata": {},
   "outputs": [
    {
     "data": {
      "text/plain": [
       "Country                                        object\n",
       "Year and Survey                                object\n",
       "Multidimensional Poverty Index (MPI, HDRO)    float64\n",
       "MPI HDRO Percent                              float64\n",
       "Multidimensional Poverty Index (MPI, 2010)    float64\n",
       "MPI 2010 Percent                              float64\n",
       "Population in Multidimensional Poverty          Int64\n",
       "Intensity of Deprivation                      float64\n",
       "Education Deprivation                         float64\n",
       "Health Deprivation                            float64\n",
       "Living Standards                              float64\n",
       "Population Below National Poverty Line        float64\n",
       "Population Below $1.25 per Day                float64\n",
       "dtype: object"
      ]
     },
     "execution_count": 19,
     "metadata": {},
     "output_type": "execute_result"
    }
   ],
   "source": [
    "df.dtypes"
   ]
  },
  {
   "cell_type": "markdown",
   "metadata": {},
   "source": [
    "# What is the most influential factor when determining the Intensity of Deprivation?"
   ]
  },
  {
   "cell_type": "markdown",
   "metadata": {},
   "source": [
    "# Decision tree regressor"
   ]
  },
  {
   "cell_type": "code",
   "execution_count": 20,
   "metadata": {},
   "outputs": [
    {
     "data": {
      "text/plain": [
       "101"
      ]
     },
     "execution_count": 20,
     "metadata": {},
     "output_type": "execute_result"
    }
   ],
   "source": [
    "#I had to change the int64 value to float64 for the model to work and fill the null that ffill missed\n",
    "len(df)"
   ]
  },
  {
   "cell_type": "code",
   "execution_count": 21,
   "metadata": {},
   "outputs": [],
   "source": [
    "X1 = df.drop(['Country', 'Year and Survey', 'Intensity of Deprivation'],axis=1)\n",
    "IOT = df['Intensity of Deprivation']"
   ]
  },
  {
   "cell_type": "code",
   "execution_count": 22,
   "metadata": {},
   "outputs": [
    {
     "data": {
      "text/plain": [
       "Multidimensional Poverty Index (MPI, HDRO)    float64\n",
       "MPI HDRO Percent                              float64\n",
       "Multidimensional Poverty Index (MPI, 2010)    float64\n",
       "MPI 2010 Percent                              float64\n",
       "Population in Multidimensional Poverty          Int64\n",
       "Education Deprivation                         float64\n",
       "Health Deprivation                            float64\n",
       "Living Standards                              float64\n",
       "Population Below National Poverty Line        float64\n",
       "Population Below $1.25 per Day                float64\n",
       "dtype: object"
      ]
     },
     "execution_count": 22,
     "metadata": {},
     "output_type": "execute_result"
    }
   ],
   "source": [
    "X1.dtypes"
   ]
  },
  {
   "cell_type": "code",
   "execution_count": 23,
   "metadata": {},
   "outputs": [
    {
     "data": {
      "text/plain": [
       "0        NaN\n",
       "1       38.0\n",
       "2       38.0\n",
       "3       18.0\n",
       "4      210.0\n",
       "       ...  \n",
       "96      69.0\n",
       "97      69.0\n",
       "98      69.0\n",
       "99      69.0\n",
       "100     69.0\n",
       "Name: Population in Multidimensional Poverty, Length: 101, dtype: float64"
      ]
     },
     "execution_count": 23,
     "metadata": {},
     "output_type": "execute_result"
    }
   ],
   "source": [
    "X1['Population in Multidimensional Poverty'].astype('float64')"
   ]
  },
  {
   "cell_type": "code",
   "execution_count": 24,
   "metadata": {},
   "outputs": [],
   "source": [
    "X1['Population in Multidimensional Poverty'].fillna(value=0, inplace=True)"
   ]
  },
  {
   "cell_type": "code",
   "execution_count": 25,
   "metadata": {},
   "outputs": [
    {
     "data": {
      "text/plain": [
       "Multidimensional Poverty Index (MPI, HDRO)    0\n",
       "MPI HDRO Percent                              0\n",
       "Multidimensional Poverty Index (MPI, 2010)    0\n",
       "MPI 2010 Percent                              0\n",
       "Population in Multidimensional Poverty        0\n",
       "Education Deprivation                         0\n",
       "Health Deprivation                            0\n",
       "Living Standards                              0\n",
       "Population Below National Poverty Line        0\n",
       "Population Below $1.25 per Day                0\n",
       "dtype: int64"
      ]
     },
     "execution_count": 25,
     "metadata": {},
     "output_type": "execute_result"
    }
   ],
   "source": [
    "X1.isna().sum()"
   ]
  },
  {
   "cell_type": "code",
   "execution_count": null,
   "metadata": {},
   "outputs": [],
   "source": []
  },
  {
   "cell_type": "code",
   "execution_count": 26,
   "metadata": {},
   "outputs": [
    {
     "data": {
      "text/plain": [
       "(101, 10)"
      ]
     },
     "execution_count": 26,
     "metadata": {},
     "output_type": "execute_result"
    }
   ],
   "source": [
    "X1.shape"
   ]
  },
  {
   "cell_type": "code",
   "execution_count": 27,
   "metadata": {},
   "outputs": [
    {
     "data": {
      "text/plain": [
       "Index(['Multidimensional Poverty Index (MPI, HDRO)', 'MPI HDRO Percent',\n",
       "       'Multidimensional Poverty Index (MPI, 2010)', 'MPI 2010 Percent',\n",
       "       'Population in Multidimensional Poverty', 'Education Deprivation',\n",
       "       'Health Deprivation', 'Living Standards',\n",
       "       'Population Below National Poverty Line',\n",
       "       'Population Below $1.25 per Day'],\n",
       "      dtype='object')"
      ]
     },
     "execution_count": 27,
     "metadata": {},
     "output_type": "execute_result"
    }
   ],
   "source": [
    "X1.columns"
   ]
  },
  {
   "cell_type": "code",
   "execution_count": 28,
   "metadata": {},
   "outputs": [
    {
     "data": {
      "text/plain": [
       "(101,)"
      ]
     },
     "execution_count": 28,
     "metadata": {},
     "output_type": "execute_result"
    }
   ],
   "source": [
    "IOT.shape"
   ]
  },
  {
   "cell_type": "code",
   "execution_count": null,
   "metadata": {},
   "outputs": [],
   "source": []
  },
  {
   "cell_type": "code",
   "execution_count": 29,
   "metadata": {},
   "outputs": [],
   "source": [
    "import sklearn\n",
    "from sklearn.model_selection import train_test_split\n",
    "X_train, X_test, y_train, y_test = train_test_split( X1, IOT, test_size=0.30, random_state=42)"
   ]
  },
  {
   "cell_type": "code",
   "execution_count": 30,
   "metadata": {},
   "outputs": [],
   "source": [
    "from sklearn.preprocessing import StandardScaler\n",
    "ss = StandardScaler(with_mean=True)\n",
    "X_train = ss.fit_transform(X_train)\n",
    "X_test = ss.fit_transform(X_test)"
   ]
  },
  {
   "cell_type": "code",
   "execution_count": 31,
   "metadata": {},
   "outputs": [
    {
     "data": {
      "text/plain": [
       "RandomForestRegressor(bootstrap=True, criterion='mse', max_depth=None,\n",
       "                      max_features='auto', max_leaf_nodes=None,\n",
       "                      min_impurity_decrease=0.0, min_impurity_split=None,\n",
       "                      min_samples_leaf=1, min_samples_split=2,\n",
       "                      min_weight_fraction_leaf=0.0, n_estimators=10,\n",
       "                      n_jobs=None, oob_score=False, random_state=None,\n",
       "                      verbose=0, warm_start=False)"
      ]
     },
     "execution_count": 31,
     "metadata": {},
     "output_type": "execute_result"
    }
   ],
   "source": [
    "from sklearn.ensemble import RandomForestRegressor\n",
    "rft = RandomForestRegressor()\n",
    "rft.fit(X_train, y_train)"
   ]
  },
  {
   "cell_type": "code",
   "execution_count": 32,
   "metadata": {},
   "outputs": [],
   "source": [
    "y_pred = rft.predict(X_test)"
   ]
  },
  {
   "cell_type": "code",
   "execution_count": 33,
   "metadata": {},
   "outputs": [
    {
     "name": "stdout",
     "output_type": "stream",
     "text": [
      "12.235661290322577\n",
      "0.8038944931881165\n"
     ]
    }
   ],
   "source": [
    "from sklearn.metrics import mean_squared_error\n",
    "\n",
    "print(mean_squared_error(y_test, y_pred))\n",
    "print(sklearn.metrics.r2_score(y_test, y_pred))"
   ]
  },
  {
   "cell_type": "markdown",
   "metadata": {},
   "source": [
    "# It looks like Multidimensional Poverty Index (MPI, HDRO) is the most important feature. This doesn't answer the question I asked."
   ]
  },
  {
   "cell_type": "code",
   "execution_count": 34,
   "metadata": {},
   "outputs": [
    {
     "data": {
      "image/png": "[encoded data removed]",
      "text/plain": [
       "<Figure size 720x360 with 1 Axes>"
      ]
     },
     "metadata": {
      "needs_background": "light"
     },
     "output_type": "display_data"
    }
   ],
   "source": [
    "fig, ax = plt.subplots(figsize=(10, 5))\n",
    "bar_rects = ax.bar(np.arange(10), rft.feature_importances_, color='b')\n",
    "ax.xaxis.set_ticks = np.arange(10)"
   ]
  },
  {
   "cell_type": "code",
   "execution_count": 35,
   "metadata": {},
   "outputs": [
    {
     "data": {
      "text/html": [
       "<div>\n",
       "<style scoped>\n",
       "    .dataframe tbody tr th:only-of-type {\n",
       "        vertical-align: middle;\n",
       "    }\n",
       "\n",
       "    .dataframe tbody tr th {\n",
       "        vertical-align: top;\n",
       "    }\n",
       "\n",
       "    .dataframe thead th {\n",
       "        text-align: right;\n",
       "    }\n",
       "</style>\n",
       "<table border=\"1\" class=\"dataframe\">\n",
       "  <thead>\n",
       "    <tr style=\"text-align: right;\">\n",
       "      <th></th>\n",
       "      <th>Multidimensional Poverty Index (MPI, HDRO)</th>\n",
       "      <th>MPI HDRO Percent</th>\n",
       "      <th>Multidimensional Poverty Index (MPI, 2010)</th>\n",
       "      <th>MPI 2010 Percent</th>\n",
       "      <th>Population in Multidimensional Poverty</th>\n",
       "      <th>Education Deprivation</th>\n",
       "      <th>Health Deprivation</th>\n",
       "      <th>Living Standards</th>\n",
       "      <th>Population Below National Poverty Line</th>\n",
       "      <th>Population Below $1.25 per Day</th>\n",
       "    </tr>\n",
       "  </thead>\n",
       "  <tbody>\n",
       "    <tr>\n",
       "      <th>0</th>\n",
       "      <td>0.293</td>\n",
       "      <td>58.8</td>\n",
       "      <td>0.353</td>\n",
       "      <td>66.2</td>\n",
       "      <td>0</td>\n",
       "      <td>45.6</td>\n",
       "      <td>19.2</td>\n",
       "      <td>35.2</td>\n",
       "      <td>35.8</td>\n",
       "      <td>0.0</td>\n",
       "    </tr>\n",
       "    <tr>\n",
       "      <th>1</th>\n",
       "      <td>0.005</td>\n",
       "      <td>1.2</td>\n",
       "      <td>0.005</td>\n",
       "      <td>1.4</td>\n",
       "      <td>38</td>\n",
       "      <td>22.4</td>\n",
       "      <td>47.1</td>\n",
       "      <td>30.5</td>\n",
       "      <td>14.3</td>\n",
       "      <td>0.5</td>\n",
       "    </tr>\n",
       "    <tr>\n",
       "      <th>2</th>\n",
       "      <td>0.015</td>\n",
       "      <td>3.7</td>\n",
       "      <td>0.011</td>\n",
       "      <td>2.9</td>\n",
       "      <td>38</td>\n",
       "      <td>38.2</td>\n",
       "      <td>27.8</td>\n",
       "      <td>34.0</td>\n",
       "      <td>14.3</td>\n",
       "      <td>1.4</td>\n",
       "    </tr>\n",
       "    <tr>\n",
       "      <th>3</th>\n",
       "      <td>0.002</td>\n",
       "      <td>0.6</td>\n",
       "      <td>0.001</td>\n",
       "      <td>0.3</td>\n",
       "      <td>18</td>\n",
       "      <td>3.4</td>\n",
       "      <td>87.8</td>\n",
       "      <td>8.7</td>\n",
       "      <td>32.0</td>\n",
       "      <td>1.8</td>\n",
       "    </tr>\n",
       "    <tr>\n",
       "      <th>4</th>\n",
       "      <td>0.009</td>\n",
       "      <td>2.4</td>\n",
       "      <td>0.021</td>\n",
       "      <td>5.3</td>\n",
       "      <td>210</td>\n",
       "      <td>20.0</td>\n",
       "      <td>50.7</td>\n",
       "      <td>29.3</td>\n",
       "      <td>5.3</td>\n",
       "      <td>0.3</td>\n",
       "    </tr>\n",
       "  </tbody>\n",
       "</table>\n",
       "</div>"
      ],
      "text/plain": [
       "   Multidimensional Poverty Index (MPI, HDRO)  MPI HDRO Percent  \\\n",
       "0                                       0.293              58.8   \n",
       "1                                       0.005               1.2   \n",
       "2                                       0.015               3.7   \n",
       "3                                       0.002               0.6   \n",
       "4                                       0.009               2.4   \n",
       "\n",
       "   Multidimensional Poverty Index (MPI, 2010)  MPI 2010 Percent  \\\n",
       "0                                       0.353              66.2   \n",
       "1                                       0.005               1.4   \n",
       "2                                       0.011               2.9   \n",
       "3                                       0.001               0.3   \n",
       "4                                       0.021               5.3   \n",
       "\n",
       "   Population in Multidimensional Poverty  Education Deprivation  \\\n",
       "0                                       0                   45.6   \n",
       "1                                      38                   22.4   \n",
       "2                                      38                   38.2   \n",
       "3                                      18                    3.4   \n",
       "4                                     210                   20.0   \n",
       "\n",
       "   Health Deprivation  Living Standards  \\\n",
       "0                19.2              35.2   \n",
       "1                47.1              30.5   \n",
       "2                27.8              34.0   \n",
       "3                87.8               8.7   \n",
       "4                50.7              29.3   \n",
       "\n",
       "   Population Below National Poverty Line  Population Below $1.25 per Day  \n",
       "0                                    35.8                             0.0  \n",
       "1                                    14.3                             0.5  \n",
       "2                                    14.3                             1.4  \n",
       "3                                    32.0                             1.8  \n",
       "4                                     5.3                             0.3  "
      ]
     },
     "execution_count": 35,
     "metadata": {},
     "output_type": "execute_result"
    }
   ],
   "source": [
    "X1.head()"
   ]
  },
  {
   "cell_type": "markdown",
   "metadata": {},
   "source": [
    "# But it looks like Multidimensional Poverty Index (MPI, HDRO), MPI HDRO Percent, and MPI HDRO Percent are very similar. Let's remove them and try again."
   ]
  },
  {
   "cell_type": "code",
   "execution_count": 36,
   "metadata": {},
   "outputs": [
    {
     "data": {
      "text/html": [
       "<div>\n",
       "<style scoped>\n",
       "    .dataframe tbody tr th:only-of-type {\n",
       "        vertical-align: middle;\n",
       "    }\n",
       "\n",
       "    .dataframe tbody tr th {\n",
       "        vertical-align: top;\n",
       "    }\n",
       "\n",
       "    .dataframe thead th {\n",
       "        text-align: right;\n",
       "    }\n",
       "</style>\n",
       "<table border=\"1\" class=\"dataframe\">\n",
       "  <thead>\n",
       "    <tr style=\"text-align: right;\">\n",
       "      <th></th>\n",
       "      <th>Multidimensional Poverty Index (MPI, HDRO)</th>\n",
       "      <th>MPI HDRO Percent</th>\n",
       "      <th>Multidimensional Poverty Index (MPI, 2010)</th>\n",
       "      <th>MPI 2010 Percent</th>\n",
       "      <th>Population in Multidimensional Poverty</th>\n",
       "      <th>Education Deprivation</th>\n",
       "      <th>Health Deprivation</th>\n",
       "      <th>Living Standards</th>\n",
       "      <th>Population Below National Poverty Line</th>\n",
       "      <th>Population Below $1.25 per Day</th>\n",
       "    </tr>\n",
       "  </thead>\n",
       "  <tbody>\n",
       "    <tr>\n",
       "      <th>Multidimensional Poverty Index (MPI, HDRO)</th>\n",
       "      <td>1.000000</td>\n",
       "      <td>0.990458</td>\n",
       "      <td>0.988230</td>\n",
       "      <td>0.980686</td>\n",
       "      <td>0.004872</td>\n",
       "      <td>0.285275</td>\n",
       "      <td>-0.622349</td>\n",
       "      <td>0.611861</td>\n",
       "      <td>0.501744</td>\n",
       "      <td>0.625540</td>\n",
       "    </tr>\n",
       "    <tr>\n",
       "      <th>MPI HDRO Percent</th>\n",
       "      <td>0.990458</td>\n",
       "      <td>1.000000</td>\n",
       "      <td>0.976403</td>\n",
       "      <td>0.987116</td>\n",
       "      <td>0.030549</td>\n",
       "      <td>0.268211</td>\n",
       "      <td>-0.652062</td>\n",
       "      <td>0.666287</td>\n",
       "      <td>0.516267</td>\n",
       "      <td>0.654887</td>\n",
       "    </tr>\n",
       "    <tr>\n",
       "      <th>Multidimensional Poverty Index (MPI, 2010)</th>\n",
       "      <td>0.988230</td>\n",
       "      <td>0.976403</td>\n",
       "      <td>1.000000</td>\n",
       "      <td>0.990254</td>\n",
       "      <td>0.004104</td>\n",
       "      <td>0.278172</td>\n",
       "      <td>-0.603084</td>\n",
       "      <td>0.591601</td>\n",
       "      <td>0.482528</td>\n",
       "      <td>0.616738</td>\n",
       "    </tr>\n",
       "    <tr>\n",
       "      <th>MPI 2010 Percent</th>\n",
       "      <td>0.980686</td>\n",
       "      <td>0.987116</td>\n",
       "      <td>0.990254</td>\n",
       "      <td>1.000000</td>\n",
       "      <td>0.024857</td>\n",
       "      <td>0.260834</td>\n",
       "      <td>-0.633921</td>\n",
       "      <td>0.647774</td>\n",
       "      <td>0.501330</td>\n",
       "      <td>0.650661</td>\n",
       "    </tr>\n",
       "    <tr>\n",
       "      <th>Population in Multidimensional Poverty</th>\n",
       "      <td>0.004872</td>\n",
       "      <td>0.030549</td>\n",
       "      <td>0.004104</td>\n",
       "      <td>0.024857</td>\n",
       "      <td>1.000000</td>\n",
       "      <td>-0.152872</td>\n",
       "      <td>0.027087</td>\n",
       "      <td>0.088453</td>\n",
       "      <td>0.048455</td>\n",
       "      <td>0.054126</td>\n",
       "    </tr>\n",
       "    <tr>\n",
       "      <th>Education Deprivation</th>\n",
       "      <td>0.285275</td>\n",
       "      <td>0.268211</td>\n",
       "      <td>0.278172</td>\n",
       "      <td>0.260834</td>\n",
       "      <td>-0.152872</td>\n",
       "      <td>1.000000</td>\n",
       "      <td>-0.681675</td>\n",
       "      <td>0.107556</td>\n",
       "      <td>0.045121</td>\n",
       "      <td>-0.049149</td>\n",
       "    </tr>\n",
       "    <tr>\n",
       "      <th>Health Deprivation</th>\n",
       "      <td>-0.622349</td>\n",
       "      <td>-0.652062</td>\n",
       "      <td>-0.603084</td>\n",
       "      <td>-0.633921</td>\n",
       "      <td>0.027087</td>\n",
       "      <td>-0.681675</td>\n",
       "      <td>1.000000</td>\n",
       "      <td>-0.800725</td>\n",
       "      <td>-0.353959</td>\n",
       "      <td>-0.316002</td>\n",
       "    </tr>\n",
       "    <tr>\n",
       "      <th>Living Standards</th>\n",
       "      <td>0.611861</td>\n",
       "      <td>0.666287</td>\n",
       "      <td>0.591601</td>\n",
       "      <td>0.647774</td>\n",
       "      <td>0.088453</td>\n",
       "      <td>0.107556</td>\n",
       "      <td>-0.800725</td>\n",
       "      <td>1.000000</td>\n",
       "      <td>0.443900</td>\n",
       "      <td>0.469898</td>\n",
       "    </tr>\n",
       "    <tr>\n",
       "      <th>Population Below National Poverty Line</th>\n",
       "      <td>0.501744</td>\n",
       "      <td>0.516267</td>\n",
       "      <td>0.482528</td>\n",
       "      <td>0.501330</td>\n",
       "      <td>0.048455</td>\n",
       "      <td>0.045121</td>\n",
       "      <td>-0.353959</td>\n",
       "      <td>0.443900</td>\n",
       "      <td>1.000000</td>\n",
       "      <td>0.732162</td>\n",
       "    </tr>\n",
       "    <tr>\n",
       "      <th>Population Below $1.25 per Day</th>\n",
       "      <td>0.625540</td>\n",
       "      <td>0.654887</td>\n",
       "      <td>0.616738</td>\n",
       "      <td>0.650661</td>\n",
       "      <td>0.054126</td>\n",
       "      <td>-0.049149</td>\n",
       "      <td>-0.316002</td>\n",
       "      <td>0.469898</td>\n",
       "      <td>0.732162</td>\n",
       "      <td>1.000000</td>\n",
       "    </tr>\n",
       "  </tbody>\n",
       "</table>\n",
       "</div>"
      ],
      "text/plain": [
       "                                            Multidimensional Poverty Index (MPI, HDRO)  \\\n",
       "Multidimensional Poverty Index (MPI, HDRO)                                    1.000000   \n",
       "MPI HDRO Percent                                                              0.990458   \n",
       "Multidimensional Poverty Index (MPI, 2010)                                    0.988230   \n",
       "MPI 2010 Percent                                                              0.980686   \n",
       "Population in Multidimensional Poverty                                        0.004872   \n",
       "Education Deprivation                                                         0.285275   \n",
       "Health Deprivation                                                           -0.622349   \n",
       "Living Standards                                                              0.611861   \n",
       "Population Below National Poverty Line                                        0.501744   \n",
       "Population Below $1.25 per Day                                                0.625540   \n",
       "\n",
       "                                            MPI HDRO Percent  \\\n",
       "Multidimensional Poverty Index (MPI, HDRO)          0.990458   \n",
       "MPI HDRO Percent                                    1.000000   \n",
       "Multidimensional Poverty Index (MPI, 2010)          0.976403   \n",
       "MPI 2010 Percent                                    0.987116   \n",
       "Population in Multidimensional Poverty              0.030549   \n",
       "Education Deprivation                               0.268211   \n",
       "Health Deprivation                                 -0.652062   \n",
       "Living Standards                                    0.666287   \n",
       "Population Below National Poverty Line              0.516267   \n",
       "Population Below $1.25 per Day                      0.654887   \n",
       "\n",
       "                                            Multidimensional Poverty Index (MPI, 2010)  \\\n",
       "Multidimensional Poverty Index (MPI, HDRO)                                    0.988230   \n",
       "MPI HDRO Percent                                                              0.976403   \n",
       "Multidimensional Poverty Index (MPI, 2010)                                    1.000000   \n",
       "MPI 2010 Percent                                                              0.990254   \n",
       "Population in Multidimensional Poverty                                        0.004104   \n",
       "Education Deprivation                                                         0.278172   \n",
       "Health Deprivation                                                           -0.603084   \n",
       "Living Standards                                                              0.591601   \n",
       "Population Below National Poverty Line                                        0.482528   \n",
       "Population Below $1.25 per Day                                                0.616738   \n",
       "\n",
       "                                            MPI 2010 Percent  \\\n",
       "Multidimensional Poverty Index (MPI, HDRO)          0.980686   \n",
       "MPI HDRO Percent                                    0.987116   \n",
       "Multidimensional Poverty Index (MPI, 2010)          0.990254   \n",
       "MPI 2010 Percent                                    1.000000   \n",
       "Population in Multidimensional Poverty              0.024857   \n",
       "Education Deprivation                               0.260834   \n",
       "Health Deprivation                                 -0.633921   \n",
       "Living Standards                                    0.647774   \n",
       "Population Below National Poverty Line              0.501330   \n",
       "Population Below $1.25 per Day                      0.650661   \n",
       "\n",
       "                                            Population in Multidimensional Poverty  \\\n",
       "Multidimensional Poverty Index (MPI, HDRO)                                0.004872   \n",
       "MPI HDRO Percent                                                          0.030549   \n",
       "Multidimensional Poverty Index (MPI, 2010)                                0.004104   \n",
       "MPI 2010 Percent                                                          0.024857   \n",
       "Population in Multidimensional Poverty                                    1.000000   \n",
       "Education Deprivation                                                    -0.152872   \n",
       "Health Deprivation                                                        0.027087   \n",
       "Living Standards                                                          0.088453   \n",
       "Population Below National Poverty Line                                    0.048455   \n",
       "Population Below $1.25 per Day                                            0.054126   \n",
       "\n",
       "                                            Education Deprivation  \\\n",
       "Multidimensional Poverty Index (MPI, HDRO)               0.285275   \n",
       "MPI HDRO Percent                                         0.268211   \n",
       "Multidimensional Poverty Index (MPI, 2010)               0.278172   \n",
       "MPI 2010 Percent                                         0.260834   \n",
       "Population in Multidimensional Poverty                  -0.152872   \n",
       "Education Deprivation                                    1.000000   \n",
       "Health Deprivation                                      -0.681675   \n",
       "Living Standards                                         0.107556   \n",
       "Population Below National Poverty Line                   0.045121   \n",
       "Population Below $1.25 per Day                          -0.049149   \n",
       "\n",
       "                                            Health Deprivation  \\\n",
       "Multidimensional Poverty Index (MPI, HDRO)           -0.622349   \n",
       "MPI HDRO Percent                                     -0.652062   \n",
       "Multidimensional Poverty Index (MPI, 2010)           -0.603084   \n",
       "MPI 2010 Percent                                     -0.633921   \n",
       "Population in Multidimensional Poverty                0.027087   \n",
       "Education Deprivation                                -0.681675   \n",
       "Health Deprivation                                    1.000000   \n",
       "Living Standards                                     -0.800725   \n",
       "Population Below National Poverty Line               -0.353959   \n",
       "Population Below $1.25 per Day                       -0.316002   \n",
       "\n",
       "                                            Living Standards  \\\n",
       "Multidimensional Poverty Index (MPI, HDRO)          0.611861   \n",
       "MPI HDRO Percent                                    0.666287   \n",
       "Multidimensional Poverty Index (MPI, 2010)          0.591601   \n",
       "MPI 2010 Percent                                    0.647774   \n",
       "Population in Multidimensional Poverty              0.088453   \n",
       "Education Deprivation                               0.107556   \n",
       "Health Deprivation                                 -0.800725   \n",
       "Living Standards                                    1.000000   \n",
       "Population Below National Poverty Line              0.443900   \n",
       "Population Below $1.25 per Day                      0.469898   \n",
       "\n",
       "                                            Population Below National Poverty Line  \\\n",
       "Multidimensional Poverty Index (MPI, HDRO)                                0.501744   \n",
       "MPI HDRO Percent                                                          0.516267   \n",
       "Multidimensional Poverty Index (MPI, 2010)                                0.482528   \n",
       "MPI 2010 Percent                                                          0.501330   \n",
       "Population in Multidimensional Poverty                                    0.048455   \n",
       "Education Deprivation                                                     0.045121   \n",
       "Health Deprivation                                                       -0.353959   \n",
       "Living Standards                                                          0.443900   \n",
       "Population Below National Poverty Line                                    1.000000   \n",
       "Population Below $1.25 per Day                                            0.732162   \n",
       "\n",
       "                                            Population Below $1.25 per Day  \n",
       "Multidimensional Poverty Index (MPI, HDRO)                        0.625540  \n",
       "MPI HDRO Percent                                                  0.654887  \n",
       "Multidimensional Poverty Index (MPI, 2010)                        0.616738  \n",
       "MPI 2010 Percent                                                  0.650661  \n",
       "Population in Multidimensional Poverty                            0.054126  \n",
       "Education Deprivation                                            -0.049149  \n",
       "Health Deprivation                                               -0.316002  \n",
       "Living Standards                                                  0.469898  \n",
       "Population Below National Poverty Line                            0.732162  \n",
       "Population Below $1.25 per Day                                    1.000000  "
      ]
     },
     "execution_count": 36,
     "metadata": {},
     "output_type": "execute_result"
    }
   ],
   "source": [
    "X1.corr()"
   ]
  },
  {
   "cell_type": "code",
   "execution_count": 37,
   "metadata": {},
   "outputs": [],
   "source": [
    "X2 = df.drop(['Country', 'Year and Survey', 'Intensity of Deprivation','Multidimensional Poverty Index (MPI, HDRO)', 'MPI HDRO Percent', 'Multidimensional Poverty Index (MPI, 2010)', 'MPI 2010 Percent','Population Below National Poverty Line'],axis=1)\n",
    "IOT2 = df['Intensity of Deprivation']"
   ]
  },
  {
   "cell_type": "code",
   "execution_count": 38,
   "metadata": {},
   "outputs": [
    {
     "data": {
      "text/plain": [
       "Population in Multidimensional Poverty    1\n",
       "Education Deprivation                     0\n",
       "Health Deprivation                        0\n",
       "Living Standards                          0\n",
       "Population Below $1.25 per Day            0\n",
       "dtype: int64"
      ]
     },
     "execution_count": 38,
     "metadata": {},
     "output_type": "execute_result"
    }
   ],
   "source": [
    "X2.isnull().sum()"
   ]
  },
  {
   "cell_type": "code",
   "execution_count": 39,
   "metadata": {},
   "outputs": [
    {
     "data": {
      "text/plain": [
       "0        NaN\n",
       "1       38.0\n",
       "2       38.0\n",
       "3       18.0\n",
       "4      210.0\n",
       "       ...  \n",
       "96      69.0\n",
       "97      69.0\n",
       "98      69.0\n",
       "99      69.0\n",
       "100     69.0\n",
       "Name: Population in Multidimensional Poverty, Length: 101, dtype: float64"
      ]
     },
     "execution_count": 39,
     "metadata": {},
     "output_type": "execute_result"
    }
   ],
   "source": [
    "X2['Population in Multidimensional Poverty'].astype('float64')"
   ]
  },
  {
   "cell_type": "code",
   "execution_count": 40,
   "metadata": {},
   "outputs": [],
   "source": [
    "X2['Population in Multidimensional Poverty'].fillna(value=0, inplace=True)"
   ]
  },
  {
   "cell_type": "code",
   "execution_count": 41,
   "metadata": {},
   "outputs": [],
   "source": [
    "X_train2, X_test2, y_train2, y_test2 = train_test_split( X2, IOT2, test_size=0.30, random_state=42)"
   ]
  },
  {
   "cell_type": "code",
   "execution_count": 42,
   "metadata": {},
   "outputs": [
    {
     "name": "stdout",
     "output_type": "stream",
     "text": [
      "18.391609677419357\n",
      "0.7052308125160941\n"
     ]
    }
   ],
   "source": [
    "#The r2 score really doesn't matter in this situation\n",
    "from sklearn.ensemble import RandomForestRegressor\n",
    "rft2 = RandomForestRegressor()\n",
    "rft2.fit(X_train2, y_train2)\n",
    "y_pred2 = rft2.predict(X_test2)\n",
    "print(mean_squared_error(y_test2, y_pred2))\n",
    "print(sklearn.metrics.r2_score(y_test2, y_pred2))"
   ]
  },
  {
   "cell_type": "markdown",
   "metadata": {},
   "source": [
    "# After removing all the highly correlated variables, I feel more confident that this chart is a better representation of the main driver of poverty which is health deprivation."
   ]
  },
  {
   "cell_type": "code",
   "execution_count": 43,
   "metadata": {},
   "outputs": [
    {
     "data": {
      "image/png": "[encoded data removed]",
      "text/plain": [
       "<Figure size 720x360 with 1 Axes>"
      ]
     },
     "metadata": {
      "needs_background": "light"
     },
     "output_type": "display_data"
    }
   ],
   "source": [
    "fig, ax = plt.subplots(figsize=(10, 5))\n",
    "bar_rects = ax.bar(np.arange(5), rft2.feature_importances_, color='b')\n",
    "ax.xaxis.set_ticks = np.arange(5)"
   ]
  },
  {
   "cell_type": "code",
   "execution_count": 44,
   "metadata": {},
   "outputs": [
    {
     "data": {
      "text/html": [
       "<div>\n",
       "<style scoped>\n",
       "    .dataframe tbody tr th:only-of-type {\n",
       "        vertical-align: middle;\n",
       "    }\n",
       "\n",
       "    .dataframe tbody tr th {\n",
       "        vertical-align: top;\n",
       "    }\n",
       "\n",
       "    .dataframe thead th {\n",
       "        text-align: right;\n",
       "    }\n",
       "</style>\n",
       "<table border=\"1\" class=\"dataframe\">\n",
       "  <thead>\n",
       "    <tr style=\"text-align: right;\">\n",
       "      <th></th>\n",
       "      <th>Population in Multidimensional Poverty</th>\n",
       "      <th>Education Deprivation</th>\n",
       "      <th>Health Deprivation</th>\n",
       "      <th>Living Standards</th>\n",
       "      <th>Population Below $1.25 per Day</th>\n",
       "    </tr>\n",
       "  </thead>\n",
       "  <tbody>\n",
       "    <tr>\n",
       "      <th>0</th>\n",
       "      <td>0</td>\n",
       "      <td>45.6</td>\n",
       "      <td>19.2</td>\n",
       "      <td>35.2</td>\n",
       "      <td>0.0</td>\n",
       "    </tr>\n",
       "    <tr>\n",
       "      <th>1</th>\n",
       "      <td>38</td>\n",
       "      <td>22.4</td>\n",
       "      <td>47.1</td>\n",
       "      <td>30.5</td>\n",
       "      <td>0.5</td>\n",
       "    </tr>\n",
       "    <tr>\n",
       "      <th>2</th>\n",
       "      <td>38</td>\n",
       "      <td>38.2</td>\n",
       "      <td>27.8</td>\n",
       "      <td>34.0</td>\n",
       "      <td>1.4</td>\n",
       "    </tr>\n",
       "    <tr>\n",
       "      <th>3</th>\n",
       "      <td>18</td>\n",
       "      <td>3.4</td>\n",
       "      <td>87.8</td>\n",
       "      <td>8.7</td>\n",
       "      <td>1.8</td>\n",
       "    </tr>\n",
       "    <tr>\n",
       "      <th>4</th>\n",
       "      <td>210</td>\n",
       "      <td>20.0</td>\n",
       "      <td>50.7</td>\n",
       "      <td>29.3</td>\n",
       "      <td>0.3</td>\n",
       "    </tr>\n",
       "  </tbody>\n",
       "</table>\n",
       "</div>"
      ],
      "text/plain": [
       "   Population in Multidimensional Poverty  Education Deprivation  \\\n",
       "0                                       0                   45.6   \n",
       "1                                      38                   22.4   \n",
       "2                                      38                   38.2   \n",
       "3                                      18                    3.4   \n",
       "4                                     210                   20.0   \n",
       "\n",
       "   Health Deprivation  Living Standards  Population Below $1.25 per Day  \n",
       "0                19.2              35.2                             0.0  \n",
       "1                47.1              30.5                             0.5  \n",
       "2                27.8              34.0                             1.4  \n",
       "3                87.8               8.7                             1.8  \n",
       "4                50.7              29.3                             0.3  "
      ]
     },
     "execution_count": 44,
     "metadata": {},
     "output_type": "execute_result"
    }
   ],
   "source": [
    "X2.head()"
   ]
  },
  {
   "cell_type": "markdown",
   "metadata": {},
   "source": [
    "# Linear regression - using all three measurements from the X2 dataframe to check how correlated they are to the intensity of deprivation."
   ]
  },
  {
   "cell_type": "code",
   "execution_count": 45,
   "metadata": {},
   "outputs": [],
   "source": [
    "X_train2, X_test2, y_train2, y_test2 = train_test_split( X2, IOT2, test_size=0.30, random_state=42)"
   ]
  },
  {
   "cell_type": "code",
   "execution_count": 46,
   "metadata": {},
   "outputs": [],
   "source": [
    "from sklearn.linear_model import LinearRegression\n",
    "lr = LinearRegression()"
   ]
  },
  {
   "cell_type": "code",
   "execution_count": 47,
   "metadata": {},
   "outputs": [],
   "source": [
    "lr.fit(X_train2, y_train2)\n",
    "pred =lr.predict(X_test2)"
   ]
  },
  {
   "cell_type": "code",
   "execution_count": 48,
   "metadata": {},
   "outputs": [
    {
     "name": "stdout",
     "output_type": "stream",
     "text": [
      "23.76484812149537\n",
      "0.6191119160139464\n"
     ]
    }
   ],
   "source": [
    "print(mean_squared_error(y_test2, pred))\n",
    "print(sklearn.metrics.r2_score(y_test2, pred))"
   ]
  },
  {
   "cell_type": "code",
   "execution_count": 49,
   "metadata": {},
   "outputs": [
    {
     "name": "stderr",
     "output_type": "stream",
     "text": [
      "No handles with labels found to put in legend.\n"
     ]
    },
    {
     "data": {
      "text/plain": [
       "<matplotlib.legend.Legend at 0x1470b4d7548>"
      ]
     },
     "execution_count": 49,
     "metadata": {},
     "output_type": "execute_result"
    },
    {
     "data": {
      "image/png": "[encoded data removed]",
      "text/plain": [
       "<Figure size 576x576 with 1 Axes>"
      ]
     },
     "metadata": {
      "needs_background": "light"
     },
     "output_type": "display_data"
    }
   ],
   "source": [
    "#Visualizing the accuracy of the model compared to the real data, the red line is the predicted and the yellow is the actual\n",
    "#There are clearly other factors that influence poverty that are not in this dataset\n",
    "fig, ax = plt.subplots(figsize=(8,8))\n",
    "ax.scatter(y_test2, pred, edgecolors=(0, 0, 0))\n",
    "ax.plot(y_test2, y_test2, 'k--', lw=4, color='y')\n",
    "sns.regplot(x=y_test2, y=pred, ax=ax, line_kws={\"color\": \"red\"})\n",
    "ax.set_xlabel('Measured')\n",
    "ax.set_ylabel('Predicted')\n",
    "\n",
    "ax.legend()"
   ]
  },
  {
   "cell_type": "code",
   "execution_count": 50,
   "metadata": {},
   "outputs": [
    {
     "data": {
      "text/html": [
       "<div>\n",
       "<style scoped>\n",
       "    .dataframe tbody tr th:only-of-type {\n",
       "        vertical-align: middle;\n",
       "    }\n",
       "\n",
       "    .dataframe tbody tr th {\n",
       "        vertical-align: top;\n",
       "    }\n",
       "\n",
       "    .dataframe thead th {\n",
       "        text-align: right;\n",
       "    }\n",
       "</style>\n",
       "<table border=\"1\" class=\"dataframe\">\n",
       "  <thead>\n",
       "    <tr style=\"text-align: right;\">\n",
       "      <th></th>\n",
       "      <th>Population in Multidimensional Poverty</th>\n",
       "      <th>Education Deprivation</th>\n",
       "      <th>Health Deprivation</th>\n",
       "      <th>Living Standards</th>\n",
       "      <th>Population Below $1.25 per Day</th>\n",
       "    </tr>\n",
       "  </thead>\n",
       "  <tbody>\n",
       "    <tr>\n",
       "      <th>0</th>\n",
       "      <td>0</td>\n",
       "      <td>45.6</td>\n",
       "      <td>19.2</td>\n",
       "      <td>35.2</td>\n",
       "      <td>0.0</td>\n",
       "    </tr>\n",
       "    <tr>\n",
       "      <th>1</th>\n",
       "      <td>38</td>\n",
       "      <td>22.4</td>\n",
       "      <td>47.1</td>\n",
       "      <td>30.5</td>\n",
       "      <td>0.5</td>\n",
       "    </tr>\n",
       "    <tr>\n",
       "      <th>2</th>\n",
       "      <td>38</td>\n",
       "      <td>38.2</td>\n",
       "      <td>27.8</td>\n",
       "      <td>34.0</td>\n",
       "      <td>1.4</td>\n",
       "    </tr>\n",
       "    <tr>\n",
       "      <th>3</th>\n",
       "      <td>18</td>\n",
       "      <td>3.4</td>\n",
       "      <td>87.8</td>\n",
       "      <td>8.7</td>\n",
       "      <td>1.8</td>\n",
       "    </tr>\n",
       "    <tr>\n",
       "      <th>4</th>\n",
       "      <td>210</td>\n",
       "      <td>20.0</td>\n",
       "      <td>50.7</td>\n",
       "      <td>29.3</td>\n",
       "      <td>0.3</td>\n",
       "    </tr>\n",
       "  </tbody>\n",
       "</table>\n",
       "</div>"
      ],
      "text/plain": [
       "   Population in Multidimensional Poverty  Education Deprivation  \\\n",
       "0                                       0                   45.6   \n",
       "1                                      38                   22.4   \n",
       "2                                      38                   38.2   \n",
       "3                                      18                    3.4   \n",
       "4                                     210                   20.0   \n",
       "\n",
       "   Health Deprivation  Living Standards  Population Below $1.25 per Day  \n",
       "0                19.2              35.2                             0.0  \n",
       "1                47.1              30.5                             0.5  \n",
       "2                27.8              34.0                             1.4  \n",
       "3                87.8               8.7                             1.8  \n",
       "4                50.7              29.3                             0.3  "
      ]
     },
     "execution_count": 50,
     "metadata": {},
     "output_type": "execute_result"
    }
   ],
   "source": [
    "X2.head()"
   ]
  },
  {
   "cell_type": "code",
   "execution_count": 51,
   "metadata": {},
   "outputs": [
    {
     "data": {
      "text/html": [
       "<div>\n",
       "<style scoped>\n",
       "    .dataframe tbody tr th:only-of-type {\n",
       "        vertical-align: middle;\n",
       "    }\n",
       "\n",
       "    .dataframe tbody tr th {\n",
       "        vertical-align: top;\n",
       "    }\n",
       "\n",
       "    .dataframe thead th {\n",
       "        text-align: right;\n",
       "    }\n",
       "</style>\n",
       "<table border=\"1\" class=\"dataframe\">\n",
       "  <thead>\n",
       "    <tr style=\"text-align: right;\">\n",
       "      <th></th>\n",
       "      <th>Population in Multidimensional Poverty</th>\n",
       "      <th>Education Deprivation</th>\n",
       "      <th>Health Deprivation</th>\n",
       "      <th>Living Standards</th>\n",
       "      <th>Population Below $1.25 per Day</th>\n",
       "    </tr>\n",
       "  </thead>\n",
       "  <tbody>\n",
       "    <tr>\n",
       "      <th>Population in Multidimensional Poverty</th>\n",
       "      <td>1.000000</td>\n",
       "      <td>-0.152872</td>\n",
       "      <td>0.027087</td>\n",
       "      <td>0.088453</td>\n",
       "      <td>0.054126</td>\n",
       "    </tr>\n",
       "    <tr>\n",
       "      <th>Education Deprivation</th>\n",
       "      <td>-0.152872</td>\n",
       "      <td>1.000000</td>\n",
       "      <td>-0.681675</td>\n",
       "      <td>0.107556</td>\n",
       "      <td>-0.049149</td>\n",
       "    </tr>\n",
       "    <tr>\n",
       "      <th>Health Deprivation</th>\n",
       "      <td>0.027087</td>\n",
       "      <td>-0.681675</td>\n",
       "      <td>1.000000</td>\n",
       "      <td>-0.800725</td>\n",
       "      <td>-0.316002</td>\n",
       "    </tr>\n",
       "    <tr>\n",
       "      <th>Living Standards</th>\n",
       "      <td>0.088453</td>\n",
       "      <td>0.107556</td>\n",
       "      <td>-0.800725</td>\n",
       "      <td>1.000000</td>\n",
       "      <td>0.469898</td>\n",
       "    </tr>\n",
       "    <tr>\n",
       "      <th>Population Below $1.25 per Day</th>\n",
       "      <td>0.054126</td>\n",
       "      <td>-0.049149</td>\n",
       "      <td>-0.316002</td>\n",
       "      <td>0.469898</td>\n",
       "      <td>1.000000</td>\n",
       "    </tr>\n",
       "  </tbody>\n",
       "</table>\n",
       "</div>"
      ],
      "text/plain": [
       "                                        Population in Multidimensional Poverty  \\\n",
       "Population in Multidimensional Poverty                                1.000000   \n",
       "Education Deprivation                                                -0.152872   \n",
       "Health Deprivation                                                    0.027087   \n",
       "Living Standards                                                      0.088453   \n",
       "Population Below $1.25 per Day                                        0.054126   \n",
       "\n",
       "                                        Education Deprivation  \\\n",
       "Population in Multidimensional Poverty              -0.152872   \n",
       "Education Deprivation                                1.000000   \n",
       "Health Deprivation                                  -0.681675   \n",
       "Living Standards                                     0.107556   \n",
       "Population Below $1.25 per Day                      -0.049149   \n",
       "\n",
       "                                        Health Deprivation  Living Standards  \\\n",
       "Population in Multidimensional Poverty            0.027087          0.088453   \n",
       "Education Deprivation                            -0.681675          0.107556   \n",
       "Health Deprivation                                1.000000         -0.800725   \n",
       "Living Standards                                 -0.800725          1.000000   \n",
       "Population Below $1.25 per Day                   -0.316002          0.469898   \n",
       "\n",
       "                                        Population Below $1.25 per Day  \n",
       "Population in Multidimensional Poverty                        0.054126  \n",
       "Education Deprivation                                        -0.049149  \n",
       "Health Deprivation                                           -0.316002  \n",
       "Living Standards                                              0.469898  \n",
       "Population Below $1.25 per Day                                1.000000  "
      ]
     },
     "execution_count": 51,
     "metadata": {},
     "output_type": "execute_result"
    }
   ],
   "source": [
    "#When two features are highly correlated it can have a negative impact on the results of the model\n",
    "X2.corr()"
   ]
  },
  {
   "cell_type": "markdown",
   "metadata": {},
   "source": [
    "# Let's compare education deprivation, health deprivation, and living standards individually to the Intensity of Deprivation."
   ]
  },
  {
   "cell_type": "code",
   "execution_count": 52,
   "metadata": {},
   "outputs": [],
   "source": [
    "X3 = X2['Education Deprivation']\n",
    "X4 = X2['Health Deprivation']\n",
    "X5 = X2['Living Standards']\n",
    "target = df['Intensity of Deprivation']"
   ]
  },
  {
   "cell_type": "code",
   "execution_count": 53,
   "metadata": {},
   "outputs": [],
   "source": [
    "X3 = X3.values.reshape(-1,1)\n",
    "X4 = X4.values.reshape(-1,1)\n",
    "X5 = X5.values.reshape(-1,1)"
   ]
  },
  {
   "cell_type": "code",
   "execution_count": 54,
   "metadata": {},
   "outputs": [],
   "source": [
    "X_train3, X_test3, y_train3, y_test3 = train_test_split( X3, target, test_size=0.30, random_state=42)\n",
    "X_train4, X_test4, y_train4, y_test4 = train_test_split( X4, target, test_size=0.30, random_state=42)\n",
    "X_train5, X_test5, y_train5, y_test5 = train_test_split( X5, target, test_size=0.30, random_state=42)"
   ]
  },
  {
   "cell_type": "code",
   "execution_count": 55,
   "metadata": {},
   "outputs": [
    {
     "data": {
      "text/plain": [
       "LinearRegression(copy_X=True, fit_intercept=True, n_jobs=None, normalize=False)"
      ]
     },
     "execution_count": 55,
     "metadata": {},
     "output_type": "execute_result"
    }
   ],
   "source": [
    "lr.fit(X_train3, y_train3)\n",
    "lr.fit(X_train4, y_train4)\n",
    "lr.fit(X_train5, y_train5)"
   ]
  },
  {
   "cell_type": "code",
   "execution_count": 56,
   "metadata": {},
   "outputs": [],
   "source": [
    "pred3 =lr.predict(X_test3)\n",
    "pred4 =lr.predict(X_test4)\n",
    "pred5 =lr.predict(X_test5)"
   ]
  },
  {
   "cell_type": "code",
   "execution_count": 57,
   "metadata": {},
   "outputs": [
    {
     "name": "stderr",
     "output_type": "stream",
     "text": [
      "No handles with labels found to put in legend.\n"
     ]
    },
    {
     "data": {
      "text/plain": [
       "<matplotlib.legend.Legend at 0x1470d6f1d88>"
      ]
     },
     "execution_count": 57,
     "metadata": {},
     "output_type": "execute_result"
    },
    {
     "data": {
      "image/png": "[encoded data removed]",
      "text/plain": [
       "<Figure size 576x576 with 1 Axes>"
      ]
     },
     "metadata": {
      "needs_background": "light"
     },
     "output_type": "display_data"
    }
   ],
   "source": [
    "#Education Deprivation\n",
    "#Visualizing the accuracy of the model compared to the real data, the red line is the predicted and the yellow is the actual\n",
    "fig, ax = plt.subplots(figsize=(8,8))\n",
    "ax.scatter(y_test3, pred3, edgecolors=(0, 0, 0))\n",
    "ax.plot(y_test3, y_test3, 'k--', lw=4, color='y')\n",
    "sns.regplot(x=y_test3, y=pred3, ax=ax, line_kws={\"color\": \"red\"})\n",
    "ax.set_xlabel('Measured')\n",
    "ax.set_ylabel('Predicted')\n",
    "\n",
    "ax.legend()"
   ]
  },
  {
   "cell_type": "code",
   "execution_count": 58,
   "metadata": {},
   "outputs": [
    {
     "name": "stderr",
     "output_type": "stream",
     "text": [
      "No handles with labels found to put in legend.\n"
     ]
    },
    {
     "data": {
      "text/plain": [
       "<matplotlib.legend.Legend at 0x1470d5e8b08>"
      ]
     },
     "execution_count": 58,
     "metadata": {},
     "output_type": "execute_result"
    },
    {
     "data": {
      "image/png": "[encoded data removed]",
      "text/plain": [
       "<Figure size 576x576 with 1 Axes>"
      ]
     },
     "metadata": {
      "needs_background": "light"
     },
     "output_type": "display_data"
    }
   ],
   "source": [
    "#Health Deprivation\n",
    "#Visualizing the accuracy of the model compared to the real data, the red line is the predicted and the yellow is the actual\n",
    "fig, ax = plt.subplots(figsize=(8,8))\n",
    "ax.scatter(y_test4, pred4, edgecolors=(0, 0, 0))\n",
    "ax.plot(y_test4, y_test4, 'k--', lw=4, color='y')\n",
    "sns.regplot(x=y_test4, y=pred4, ax=ax, line_kws={\"color\": \"red\"})\n",
    "ax.set_xlabel('Measured')\n",
    "ax.set_ylabel('Predicted')\n",
    "\n",
    "ax.legend()"
   ]
  },
  {
   "cell_type": "code",
   "execution_count": 59,
   "metadata": {},
   "outputs": [
    {
     "name": "stderr",
     "output_type": "stream",
     "text": [
      "No handles with labels found to put in legend.\n"
     ]
    },
    {
     "data": {
      "text/plain": [
       "<matplotlib.legend.Legend at 0x1470d660688>"
      ]
     },
     "execution_count": 59,
     "metadata": {},
     "output_type": "execute_result"
    },
    {
     "data": {
      "image/png": "[encoded data removed]",
      "text/plain": [
       "<Figure size 576x576 with 1 Axes>"
      ]
     },
     "metadata": {
      "needs_background": "light"
     },
     "output_type": "display_data"
    }
   ],
   "source": [
    "#Living Standard\n",
    "#Visualizing the accuracy of the model compared to the real data, the red line is the predicted and the yellow is the actual\n",
    "fig, ax = plt.subplots(figsize=(8,8))\n",
    "ax.scatter(y_test5, pred5, edgecolors=(0, 0, 0))\n",
    "ax.plot(y_test5, y_test5, 'k--', lw=4, color='y')\n",
    "sns.regplot(x=y_test5, y=pred5, ax=ax, line_kws={\"color\": \"red\"})\n",
    "ax.set_xlabel('Measured')\n",
    "ax.set_ylabel('Predicted')\n",
    "\n",
    "ax.legend()"
   ]
  },
  {
   "cell_type": "markdown",
   "metadata": {},
   "source": [
    "# None of these measurments individually have a stong correlation to either intensity of deprivation or MPI 2010 Percent."
   ]
  },
  {
   "cell_type": "markdown",
   "metadata": {},
   "source": [
    "# Unconstrained Population Growth Model.  This model is based off Lebanon. This model does not include deaths, Syrian refugees, and unexpected events like the explosion on 8/4/2020."
   ]
  },
  {
   "cell_type": "code",
   "execution_count": 60,
   "metadata": {},
   "outputs": [
    {
     "name": "stdout",
     "output_type": "stream",
     "text": [
      "12 68000024\n",
      "12 68000048\n",
      "12 68000072\n",
      "12 68000096\n",
      "12 68000120\n",
      "12 68000144\n",
      "12 68000168\n",
      "12 68000192\n",
      "12 68000216\n",
      "12 68000240\n",
      "12 68000264\n"
     ]
    }
   ],
   "source": [
    "pop = 68000000 #6.8 mill\n",
    "growthrate = 2 # 2.10 births per woman\n",
    "delta_t = 12\n",
    "numIterations = 12\n",
    "growthrateperstep = growthrate * delta_t\n",
    "for i in enumerate(range(1, numIterations)):\n",
    "    growth = growthrate * pop\n",
    "    pop = pop + growthrateperstep \n",
    "    t = 1 * delta_t\n",
    "    \n",
    "    print(t, pop)"
   ]
  },
  {
   "cell_type": "markdown",
   "metadata": {},
   "source": [
    "# This is my first attempt at a predator-prey model.  For those wildlife enthusiasts, the lion and cape buffalo rivalry is well known.  In this model I didn't include the rate of lion kills for the buffalo. Cape buffalo can and do kill lions during some encounters.  It is hard to find data on poaching stats as much of it is unreported so I thought I would make these models to add in something about wildlife."
   ]
  },
  {
   "cell_type": "code",
   "execution_count": 61,
   "metadata": {},
   "outputs": [
    {
     "name": "stdout",
     "output_type": "stream",
     "text": [
      "12.700299999999995 7.099900000000002\n",
      "85.39560999999989 -12.594907998499973\n",
      "2053.506350729437 -407.80862625430944\n",
      "75904.59444133587 -12727.568531613742\n",
      "3798484.2499831677 -544904.9915982039\n",
      "247028853.99795792 -30967685.285699036\n",
      "20262808180.047634 -2256177471.258971\n",
      "2046973440403.8918 -205028474794.23886\n",
      "249767349512036.8 -22735288799094.516\n",
      "3.622013323443619e+16 -3021513500664608.5\n",
      "6.157919303354847e+18 -4.7410238384110406e+17\n",
      "1.2131862177808858e+21 -8.672117015568318e+19\n",
      "2.7419380133225678e+23 -1.8291489012696637e+22\n",
      "7.0470676860770396e+25 -4.406941334001274e+24\n",
      "2.0437186053366565e+28 -1.2028010352017613e+27\n",
      "6.642274120949924e+30 -3.6918471739076746e+29\n",
      "2.4045614711301825e+33 -1.2660863720546381e+32\n",
      "9.642492977938237e+35 -4.823085648829672e+34\n"
     ]
    }
   ],
   "source": [
    "buffalo_reproduction_rate = .005\n",
    "lion_death_rate = .005\n",
    "rate_of_kills_per_lion = 5e-6\n",
    "lion_births_per_buffalo_kill=1\n",
    "    \n",
    "    \n",
    "N=20   #number of timesteps\n",
    "    \n",
    "\n",
    "buffalo_pop = 10\n",
    "lion_pop = 10\n",
    "\n",
    "for n in range(2,N):\n",
    "    buffalo_pop += buffalo_pop*n-1 + buffalo_reproduction_rate*buffalo_pop*n-1 - rate_of_kills_per_lion*buffalo_pop*n -1*lion_pop*n -1\n",
    "    lion_pop += lion_pop*n-1 - lion_death_rate*lion_pop*n-1 + lion_births_per_buffalo_kill*rate_of_kills_per_lion*lion_pop*n -1*buffalo_pop*n -1\n",
    "        \n",
    "\n",
    "    print(lion_pop, buffalo_pop)    \n"
   ]
  },
  {
   "cell_type": "code",
   "execution_count": 62,
   "metadata": {},
   "outputs": [
    {
     "name": "stdout",
     "output_type": "stream",
     "text": [
      "15 100\n",
      "15 100\n",
      "15 100\n",
      "15 100\n",
      "15 100\n",
      "15 100\n",
      "15 100\n",
      "15 100\n",
      "15 100\n"
     ]
    }
   ],
   "source": [
    "pred_pop = 15\n",
    "prey_pop = 100\n",
    "pred_birth_frac = 0.001\n",
    "#pred_births = pred_birth_frac * prey_pop* pred_pop\n",
    "pred_death_const = 1.06\n",
    "#pred_deaths = pred_death_const *pred_pop\n",
    "\n",
    "\n",
    "\n",
    "prey_birth_frac = 2\n",
    "#prey_births = prey_birth_frac * prey_pop\n",
    "prey_death_const = 0.02\n",
    "#prey_deaths = prey_death_const *pred_pop * prey_pop\n",
    "\n",
    "for i in range(1, 10):\n",
    "    \n",
    "    pred_pop1 = pred_birth_frac * prey_pop* pred_pop - pred_death_const *pred_pop   \n",
    "    prey_pop1 = prey_death_const *pred_pop * prey_pop - prey_birth_frac * prey_pop\n",
    "    \n",
    "    print(pred_pop, prey_pop)"
   ]
  },
  {
   "cell_type": "markdown",
   "metadata": {},
   "source": [
    "# Poverty is something that will always be around, the same with terrorism and wildlife poaching.  There are things that we can do to alleviate poverty and human suffering such as increasing food security.  Using data science and machine learning, we can accurately classify which areas around the world that would benefit the most from these programs and it can also be used to increase crop yield, slow the spread of disease and terrorism, and prevent iconic species from going extinct which provide major cash flow for some of the most impoverished countries."
   ]
  },
  {
   "cell_type": "markdown",
   "metadata": {},
   "source": [
    "# 1. EDA and data cleaning\n",
    "\n",
    "\n",
    "# 2. Decision tree regressor - using these features MPI 2010 Percent\tPopulation in Multidimensional Poverty\tEducation Deprivation\tHealth Deprivation\tLiving Standards\tPopulation Below National Poverty Line\tPopulation Below 1.25 per Day to predict intensity of poverty - 89% accuracy\n",
    "\n",
    "\n",
    "# 3. Linear regression - 86% accuracy\n",
    "\n",
    "\n",
    "\n",
    "# 4. What relationship do each of these individually have with intensity of deprivation: Education Deprivation,\tHealth Deprivation,\tLiving Standards\n",
    "\n",
    "# Linear regression - -0.544, -1.467, 0.325 respectivley. Living standards has the strongest out of the 3 but I don't know how that is measured. Poverty has so many dimensions I think it is a combination of drivers that determines poverty rates.\n",
    "\n",
    "\n",
    "\n",
    "# 5. Unconstrained population growth model based on Lebanon"
   ]
  },
  {
   "cell_type": "code",
   "execution_count": null,
   "metadata": {},
   "outputs": [],
   "source": []
  }
 ],
 "metadata": {
  "kernelspec": {
   "display_name": "Python 3",
   "language": "python",
   "name": "python3"
  },
  "language_info": {
   "codemirror_mode": {
    "name": "ipython",
    "version": 3
   },
   "file_extension": ".py",
   "mimetype": "text/x-python",
   "name": "python",
   "nbconvert_exporter": "python",
   "pygments_lexer": "ipython3",
   "version": "3.7.4"
  }
 },
 "nbformat": 4,
 "nbformat_minor": 2
}
